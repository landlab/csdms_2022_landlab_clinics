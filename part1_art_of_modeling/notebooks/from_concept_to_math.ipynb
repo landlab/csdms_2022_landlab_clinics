{
 "cells": [
  {
   "cell_type": "markdown",
   "id": "70fadb4e",
   "metadata": {},
   "source": [
    "# Introduction to modeling: from concept to mathematics\n",
    "\n"
   ]
  },
  {
   "attachments": {
    "lake_basin-2.svg": {
     "image/svg+xml": [
      "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"
     ]
    }
   },
   "cell_type": "markdown",
   "id": "7eb3b1c1",
   "metadata": {},
   "source": [
    "## From concept to ordinary differential equation (ODE) using mass balance: example of a lake basin\n",
    "\n",
    "Imagine we have a lake or reservoir, and would like to understand better the factors that control how its water volume grows or shrinks over time. In particular, it we would like to have a mathematical model that predicts how the volume changes over time as a function of the various inputs and outputs. We can create such a model using a general and powerful technique called **mass balance analysis**.\n",
    "\n",
    "### Defining a control volume\n",
    "\n",
    "We start by defining the substance whose mass we want to track (say, water), and a *control volume:* a zone in space in which we want to keep track of mass. It could have a specific shape and size, such as water within an aquifer that has certain dimensions. Or it could be a conceptual \"box\", such as the organic carbon in the world's soils. Either way, our control volume defines the boundaries of our system, and our model's job will be to describe the ins and outs of mass across those boundaries.\n",
    "\n",
    "In this example, our control volume will be a lake basin in the shape of an inverted pyramid:\n",
    "\n",
    "![lake_basin-2.svg](attachment:lake_basin-2.svg)\n",
    "\n",
    "The height of water in the lake (above its deepest point) is $H$. The length and width of the lake are $L$ and $W$, respectively. The volume of water in the lake at any given time is $V$.\n",
    "\n",
    "\n",
    "### General statement of mass balance\n",
    "\n",
    "We start with a general statement of mass balance, first in words:\n",
    "\n",
    "**The time rate of change of mass in the control volume equals the rate of mass input, minus the rate of mass output, plus or minus any internal sources or sinks**\n",
    "\n",
    "Written in math:\n",
    "\n",
    "$$\n",
    "\\begin{equation}\n",
    "\\frac{dm}{dt} = M_\\text{in} - M_\\text{out} + S\n",
    "\\end{equation}\n",
    "$$\n",
    "\n",
    "where:\n",
    "\n",
    "$m$ is mass [M]\n",
    "\n",
    "$t$ is time [T]\n",
    "\n",
    "$M_\\text{in}$ [M/T] is the rate of mass flowing into the control volume across its boundaries\n",
    "\n",
    "$M_\\text{out}$ [M/T] is the rate of mass flowing out of the control volume across its boundaries\n",
    "\n",
    "$S$ [M/T] is the rate at which mass (of the substance of interest) is created or lost inside the volume\n",
    "\n",
    "(Here the notation [M], [T], [L] is used to indicate quantities that have units of mass, time, or length, respectively).\n",
    "\n"
   ]
  },
  {
   "cell_type": "markdown",
   "id": "8f1c78cb",
   "metadata": {},
   "source": [
    "### List assumptions\n",
    "\n",
    "For our lake model, we will (initially) assume:\n",
    "\n",
    "- Density of water is constant ($\\rho$)\n",
    "- Water enters lake from a river with discharge (volume per time) $Q_\\text{in}$\n",
    "- Water leaves the lake via evaporation at rate $E$\n",
    "- No internal sources or sinks (i.e., $S=0$)\n"
   ]
  },
  {
   "cell_type": "markdown",
   "id": "540d9e2d",
   "metadata": {},
   "source": [
    "### Express the pieces in the general mass-balance equation in terms of quantities of interest\n",
    "\n",
    "#### Mass of water in lake at any given time\n",
    "\n",
    "$$m = \\rho V$$\n",
    "\n",
    "$$M_\\text{in} = \\rho Q$$\n",
    "\n",
    "$$M_\\text{out} = \\rho E L W$$\n",
    "\n",
    "$$S=0$$\n"
   ]
  },
  {
   "cell_type": "markdown",
   "id": "7d1d88ba",
   "metadata": {},
   "source": [
    "### Plug them into the balance equation, and rearrange to get the quantity of interest on the left side of the equation\n",
    "\n",
    "$$\\frac{d(\\rho V)}{dt} = \\rho Q - \\rho E L W$$\n",
    "\n",
    "Because $\\rho$ is constant,\n",
    "\n",
    "$$\\frac{dV}{dt} = Q - E L W$$\n",
    "\n",
    "Width ($W$) and volume ($V$) are related by geometry:\n",
    "\n",
    "$$W = \\sqrt{\\frac{2V}{L\\tan\\alpha}}$$\n",
    "\n",
    "So we have a **nonlinear ordinary differential equation (ODE)**:\n",
    "\n",
    "$$\\boxed{\\frac{dV}{dt} = Q - E \\sqrt{\\frac{2VL}{\\tan\\alpha}}}$$\n",
    "\n",
    "\n",
    "\n"
   ]
  },
  {
   "cell_type": "markdown",
   "id": "e9c6b32a",
   "metadata": {},
   "source": [
    "### Solve your model\n",
    "\n",
    "#### Analytical solutions\n",
    "\n",
    "Sometimes we are lucky, and our mathematical model can be solved analytically. Often, we can at least solve it for special cases. \n",
    "\n",
    "Here for example, there's an obvious solution for what the lake looks like at steady state, inflow and evaporation are balanced and the time derivative is zero:\n",
    "\n",
    "$$V = \\frac{\\tan\\alpha}{2L} \\left( \\frac{Q}{E} \\right)^2$$"
   ]
  },
  {
   "cell_type": "markdown",
   "id": "f6356b3d",
   "metadata": {},
   "source": [
    "##### Exercise: plotting steady state $V$\n",
    "\n",
    "In the cell below, import NumPy and matplotlib.pyplot, and use them in a Python script to plot volume versus evaporation rate for a hypothetical lake that has $\\tan\\alpha = 0.01$, $L = 2,000$ m, $Q = 10^7$ cubic meters per year, and $E$ ranging from 1 to 6 meters per year."
   ]
  },
  {
   "cell_type": "code",
   "execution_count": 1,
   "id": "b874ffe2",
   "metadata": {},
   "outputs": [
    {
     "data": {
      "text/plain": [
       "Text(0, 0.5, 'Steady lake volume (m3)')"
      ]
     },
     "execution_count": 1,
     "metadata": {},
     "output_type": "execute_result"
    },
    {
     "data": {
      "image/png": "[encoded data removed]",
      "text/plain": [
       "<Figure size 432x288 with 1 Axes>"
      ]
     },
     "metadata": {
      "needs_background": "light"
     },
     "output_type": "display_data"
    }
   ],
   "source": [
    "# Enter your code here\n",
    "import numpy as np\n",
    "import matplotlib.pyplot as plt\n",
    "\n",
    "tana = 0.01\n",
    "L = 2000.0\n",
    "Q = 1.0e7\n",
    "E = np.linspace(1.0, 6.0, 101)\n",
    "\n",
    "V = (tana / (2 * L)) * (Q / E)**2\n",
    "\n",
    "plt.plot(E, V)\n",
    "plt.xlabel('Annual evaporation rate (m/yr)')\n",
    "plt.ylabel('Steady lake volume (m3)')"
   ]
  },
  {
   "cell_type": "markdown",
   "id": "5b87a6d6",
   "metadata": {},
   "source": [
    "#### Numerical solution\n",
    "\n",
    "Often a mathematical model will have no (known or easy) analytical solution, so we need to calculate an approximate **numerical solution**. One of the most common numerical approaches is the **finite-difference** method, in which we replace derivatives with finite approximations.\n",
    "\n",
    "Taylor's Theorem tells us that if the value of a continuous and differential function is known at a point $t$, then its value at an unknown point $t + \\Delta t$ can be found as the sum of an infinite series:\n",
    "\n",
    "$$f(t+\\Delta t) = f(t) + \\frac{df}{dt}\\Delta t + \\frac{1}{2} \\frac{d^2f}{dt^2}\\Delta t^2 + + \\frac{1}{3!} \\frac{d^3f}{dt^3}\\Delta t^3 + ...$$"
   ]
  },
  {
   "cell_type": "markdown",
   "id": "d6638ff5",
   "metadata": {},
   "source": [
    "We can *approximate* $f(t+\\Delta t)$ by truncating this. If we truncate it to \"first order\" (i.e., keep only the first derivative), then\n",
    "\n",
    "$$\\frac{df}{dt} \\approx \\frac{f(t+\\Delta t) - f(t)}{\\Delta t}$$"
   ]
  },
  {
   "cell_type": "code",
   "execution_count": null,
   "id": "f5022761",
   "metadata": {},
   "outputs": [],
   "source": []
  }
 ],
 "metadata": {
  "kernelspec": {
   "display_name": "Python 3 (ipykernel)",
   "language": "python",
   "name": "python3"
  },
  "language_info": {
   "codemirror_mode": {
    "name": "ipython",
    "version": 3
   },
   "file_extension": ".py",
   "mimetype": "text/x-python",
   "name": "python",
   "nbconvert_exporter": "python",
   "pygments_lexer": "ipython3",
   "version": "3.8.12"
  }
 },
 "nbformat": 4,
 "nbformat_minor": 5
}
